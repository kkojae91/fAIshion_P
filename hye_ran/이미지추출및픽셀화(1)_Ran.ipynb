{
  "nbformat": 4,
  "nbformat_minor": 0,
  "metadata": {
    "colab": {
      "name": "이미지추출및픽셀화(1)_Ran.ipynb",
      "provenance": [],
      "private_outputs": true
    },
    "kernelspec": {
      "name": "python3",
      "display_name": "Python 3"
    }
  },
  "cells": [
    {
      "cell_type": "code",
      "metadata": {
        "id": "U_AOPAKnmgiB",
        "colab_type": "code",
        "colab": {}
      },
      "source": [
        "import cv2\n",
        "import numpy as np\n",
        "from tensorflow.keras.models import load_model\n",
        "import tensorflow as tf\n",
        "import sys\n",
        "from tensorflow.compat.v1 import ConfigProto\n",
        "from tensorflow.compat.v1 import InteractiveSession\n",
        "from google.colab.patches import cv2_imshow"
      ],
      "execution_count": null,
      "outputs": []
    },
    {
      "cell_type": "code",
      "metadata": {
        "id": "1S2Q5ZuomwZ7",
        "colab_type": "code",
        "colab": {}
      },
      "source": [
        "# !python fashion.py image_name save_dir"
      ],
      "execution_count": null,
      "outputs": []
    },
    {
      "cell_type": "code",
      "metadata": {
        "id": "w5zoSnpesrM_",
        "colab_type": "code",
        "colab": {}
      },
      "source": [
        "# GPU메모리 증가 허용하기 코드..내가 알아야할 필요가 있을지..? 뭔 이야기인지는 모르겠음.\n",
        "# config = ConfigProto()\n",
        "# config.gpu_options.allow_growth = True\n",
        "# session = InteractiveSession(config=config)"
      ],
      "execution_count": null,
      "outputs": []
    },
    {
      "cell_type": "code",
      "metadata": {
        "id": "C8aHgWJCsv38",
        "colab_type": "code",
        "colab": {}
      },
      "source": [
        "# 이미지를 계속해서 바꿔바며 할수 있는 방법을 생각해야함 요기 f는 경로 입력.\n",
        "f = '/content/drive/My Drive/image/man.jpg'\n",
        "# 훈련된 모델 가지고 오는 경로 설정.\n",
        "saved = load_model(\"/content/drive/My Drive/image/topwears.h5\")"
      ],
      "execution_count": null,
      "outputs": []
    },
    {
      "cell_type": "code",
      "metadata": {
        "id": "7OkAFFJumM9-",
        "colab_type": "code",
        "colab": {}
      },
      "source": [
        "# f = sys.argv[1]\n",
        "saved = load_model(\"/content/drive/My Drive/image/topwears.h5\")\n",
        "class fashion_tools(object):\n",
        "    def __init__(self,imageid,model,version=1.1):\n",
        "        self.imageid = imageid\n",
        "        self.model   = model\n",
        "        self.version = version\n",
        "        \n",
        "    def get_dress(self,stack=False):\n",
        "        \"\"\"limited to top wear and full body dresses (wild and studio working)\"\"\"\n",
        "        \"\"\"takes input rgb----> return PNG\"\"\"\n",
        "        name =  self.imageid\n",
        "        file = cv2.imread(name)\n",
        "        file = tf.image.resize_with_pad(file,target_height=512,target_width=512)\n",
        "        rgb  = file.numpy()\n",
        "        file = np.expand_dims(file,axis=0)/ 255.\n",
        "        seq = self.model.predict(file)\n",
        "        seq = seq[3][0,:,:,0]\n",
        "        seq = np.expand_dims(seq,axis=-1)\n",
        "        c1x = rgb*seq\n",
        "        c2x = rgb*(1-seq)\n",
        "        cfx = c1x+c2x\n",
        "        dummy = np.ones((rgb.shape[0],rgb.shape[1],1))\n",
        "        rgbx = np.concatenate((rgb,dummy*255),axis=-1)\n",
        "        rgbs = np.concatenate((cfx,seq*255.),axis=-1)\n",
        "        if stack:\n",
        "            stacked = np.hstack((rgbx,rgbs))\n",
        "            return stacked\n",
        "        else:\n",
        "            return rgbs\n",
        "        \n",
        "\n",
        "    def get_patch(self):\n",
        "        return None\n",
        "\n",
        "    def development(self):\n",
        "        n_ = '\\n'\n",
        "        return (f\"VERSION : {self.version} {n_} Interesting tools to be added to the workflow pipe!!!\")\n",
        "\n",
        "\n",
        "\n",
        "\n",
        "    \n",
        "###running code\n",
        "\n",
        "api    = fashion_tools(f,saved)\n",
        "image_ = api.get_dress(True)\n",
        "\n",
        "print(\"########################################\")\n",
        "print(api.development())\n",
        "print(\"########################################\")\n",
        "cv2.imwrite(\"out.png\",image_)\n",
        "\n",
        "# 파일로 저장해줌. 원본 이미지와, 추출된 이미지 나란히...\n",
        "# cv2.imwrite(\"out.png\",image_)\n",
        "# 코랩환경해서 확인하려면... 밑의 코드로 터미널에서 확인가능\n",
        "cv2_imshow(image_)\n",
        "# 픽셀로 출력되는데 지수..?? 어떻게 변환하는지 알아봐야함.--> np.int64\n",
        "print(np.int64(image_))\n",
        "\n",
        "# 텍스트 파일로 저장해줄수 있다는데 나는 안됨..? 오류 해결해 봐야한다.\n",
        "# np.savetxt(\"pixel_data.txt\", image_, fmt='%d', delimiter=\" \")"
      ],
      "execution_count": null,
      "outputs": []
    },
    {
      "cell_type": "code",
      "metadata": {
        "id": "XnlwFjKAAffl",
        "colab_type": "code",
        "colab": {}
      },
      "source": [
        ""
      ],
      "execution_count": null,
      "outputs": []
    },
    {
      "cell_type": "code",
      "metadata": {
        "id": "k3N_kbGQmfj1",
        "colab_type": "code",
        "colab": {}
      },
      "source": [
        ""
      ],
      "execution_count": null,
      "outputs": []
    }
  ]
}