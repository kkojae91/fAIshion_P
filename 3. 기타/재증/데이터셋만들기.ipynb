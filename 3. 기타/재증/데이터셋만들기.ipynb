{
  "nbformat": 4,
  "nbformat_minor": 0,
  "metadata": {
    "colab": {
      "name": "데이터셋만들기.ipynb",
      "provenance": [],
      "collapsed_sections": []
    },
    "kernelspec": {
      "name": "python3",
      "display_name": "Python 3"
    }
  },
  "cells": [
    {
      "cell_type": "code",
      "metadata": {
        "id": "kO9u8JaQvFH-",
        "colab_type": "code",
        "colab": {}
      },
      "source": [
        "import cv2\n",
        "import numpy as np\n",
        "from tensorflow.keras.models import load_model\n",
        "from tensorflow.keras.preprocessing.image import ImageDataGenerator\n",
        "import tensorflow as tf\n",
        "import sys\n",
        "from tensorflow.compat.v1 import ConfigProto\n",
        "from tensorflow.compat.v1 import InteractiveSession\n",
        "from google.colab.patches import cv2_imshow\n",
        "import matplotlib.pyplot as plt\n",
        "from PIL import Image, ImageOps\n",
        "import glob\n",
        "# np행렬 생략 부분 출력 펼쳐서 보기 옵션\n",
        "np.set_printoptions(threshold=np.inf, linewidth=np.inf)\n",
        "import os, re, glob\n",
        "import cv2\n",
        "import numpy as np\n",
        "from sklearn.model_selection import train_test_split"
      ],
      "execution_count": null,
      "outputs": []
    },
    {
      "cell_type": "code",
      "metadata": {
        "id": "8aWDv-uWvHuz",
        "colab_type": "code",
        "colab": {}
      },
      "source": [
        "groups_folder_path = '/content/drive/My Drive/Colab Notebooks/preprocessing_images/'\n",
        "categories = [\"0\",\"1\",\"2\",\"3\"]\n",
        "# 0 : 후드티 , 1 : 맨투맨, 2 : 셔츠, 3 : 티셔츠\n",
        "num_classes = len(categories)\n",
        "  \n",
        "# image_w = 28\n",
        "# image_h = 28\n",
        "  \n",
        "X = []\n",
        "Y = []\n",
        "  \n",
        "for idex, categorie in enumerate(categories):\n",
        "    # label = [0 for i in range(num_classes)]\n",
        "    # label[idex] = 1\n",
        "    image_dir = groups_folder_path + categorie + '/'\n",
        "  \n",
        "    for top, dir, f in os.walk(image_dir):\n",
        "        for filename in f:\n",
        "            # print(image_dir+filename)\n",
        "            img = cv2.imread(image_dir+filename)\n",
        "            # print(img.shape)\n",
        "            # img = cv2.resize(img, None, fx=image_w/img.shape[1], fy=image_h/img.shape[0])\n",
        "            X.append(img)\n",
        "            Y.append(idex)\n",
        "        print('done')\n",
        "# print(X[0].shape)\n",
        "X = np.array(X)\n",
        "Y = np.array(Y)\n",
        " \n",
        "X_train, X_test, Y_train, Y_test = train_test_split(X,Y)\n",
        "xy = (X_train, X_test, Y_train, Y_test)\n",
        " \n",
        "# 데이터 셋 저장하기.\n",
        "np.save(\"images_data_set.npy\", xy)\n"
      ],
      "execution_count": null,
      "outputs": []
    }
  ]
}